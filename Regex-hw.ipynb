{
 "cells": [
  {
   "cell_type": "markdown",
   "metadata": {},
   "source": [
    "# Домашнее задание к лекции \"Регулярные выражения\"\n",
    "Для зачета необходимо выполнить 4 задания.  \n",
    "Для зачета с отличием – все."
   ]
  },
  {
   "cell_type": "markdown",
   "metadata": {},
   "source": [
    "## Задание 1"
   ]
  },
  {
   "cell_type": "markdown",
   "metadata": {},
   "source": [
    "Напишите функцию, которая принимает на вход строку и проверяет является ли она валидным транспортным номером. Если да, то функция должна возвращать отдельно номер и регион."
   ]
  },
  {
   "cell_type": "code",
   "execution_count": 48,
   "metadata": {},
   "outputs": [],
   "source": [
    "def carplatenumber(car_platen):\n",
    "    import re\n",
    "    regex_carpln = '^([АВЕКМНОРСТУХ]{1}[0-9]{3}[АВЕКМНОРСТУХ]{2}){1}([0-9]{2,3}){1}$'\n",
    "    if re.search(regex_carpln, car_platen):\n",
    "        print('The car plate number {} is a valid car plate number'.format(car_platen))\n",
    "        platenreg_result = re.findall(regex_carpln, car_platen)\n",
    "        print('Номер валидного транспортного номера:', platenreg_result[0][0])\n",
    "        print('Регион валидного транспортного номера:', platenreg_result[0][1])\n",
    "    else:\n",
    "        print('The car plate number {} is invalid'.format(car_platen))"
   ]
  },
  {
   "cell_type": "code",
   "execution_count": 49,
   "metadata": {},
   "outputs": [
    {
     "name": "stdout",
     "output_type": "stream",
     "text": [
      "Введите номер транспортного средства:Е644ХС799\n",
      "The car plate number Е644ХС799 is a valid car plate number\n",
      "Номер валидного транспортного номера: Е644ХС\n",
      "Регион валидного транспортного номера: 799\n"
     ]
    }
   ],
   "source": [
    "carplatenumber(input('Введите номер транспортного средства:'))"
   ]
  },
  {
   "cell_type": "code",
   "execution_count": 50,
   "metadata": {},
   "outputs": [
    {
     "name": "stdout",
     "output_type": "stream",
     "text": [
      "Введите номер транспортного средства:ПА345Р777\n",
      "The car plate number ПА345Р777 is invalid\n"
     ]
    }
   ],
   "source": [
    "carplatenumber(input('Введите номер транспортного средства:'))"
   ]
  },
  {
   "cell_type": "code",
   "execution_count": null,
   "metadata": {},
   "outputs": [],
   "source": []
  },
  {
   "cell_type": "code",
   "execution_count": null,
   "metadata": {},
   "outputs": [],
   "source": []
  },
  {
   "cell_type": "code",
   "execution_count": null,
   "metadata": {},
   "outputs": [],
   "source": []
  },
  {
   "cell_type": "code",
   "execution_count": null,
   "metadata": {},
   "outputs": [],
   "source": [
    "import re\n",
    "car_platens = ['К198РС95', 'А423УП45', 'Т189УС7', 'К198РС489']\n",
    "regex_carpln = '^([АВЕКМНОРСТУХ]{1}[0-9]{3}[АВЕКМНОРСТУХ]{2})?([0-9]{2,3})?$'\n",
    "\n",
    "for car_platen in car_platens:\n",
    "    if re.search(regex_carpln, car_platen):\n",
    "        print('The car plate number {} is a valid car plate number'.format(car_platen))\n",
    "    else:\n",
    "        print('The car plate number {} is invalid'.format(car_platen))  "
   ]
  },
  {
   "cell_type": "code",
   "execution_count": null,
   "metadata": {},
   "outputs": [],
   "source": [
    "import re\n",
    "car_platens = ['К198РС95', 'А423УП45', 'Т189УС7', 'К198РС489']\n",
    "regex_carpln = '^([АВЕКМНОРСТУХ]{1}[0-9]{3}[АВЕКМНОРСТУХ]{2})?([0-9]{2,3})?$'\n",
    "platenreg_result = re.findall(regex_carpln, car_platens[0])\n",
    "print('Номер валидного транспортного номера:', platenreg_result[0][0])\n",
    "print('Регион валидного транспортного номера:', platenreg_result[0][1])"
   ]
  },
  {
   "cell_type": "markdown",
   "metadata": {},
   "source": [
    "## Задание 2"
   ]
  },
  {
   "cell_type": "markdown",
   "metadata": {},
   "source": [
    "Напишите функцию, которая проверяет e-mail адрес на валидность по стандарту RFC822: http://www.w3.org/Protocols/rfc822/. Для этого постарайтесь написать (в крайнем случае найти) самый полный шаблон для проверки e-mail адресов через регулярное выражение. Разберитесь и напишите примеры, какие ваш шаблон может не охватить."
   ]
  },
  {
   "cell_type": "code",
   "execution_count": null,
   "metadata": {},
   "outputs": [],
   "source": []
  },
  {
   "cell_type": "code",
   "execution_count": 46,
   "metadata": {},
   "outputs": [],
   "source": [
    "def email4valid(email):\n",
    "    import re\n",
    "#   regex_mails = '[A-Za-z0-9-_\\.]+@[a-zA-Z0-9_]+\\.[a-zA-Z]{2,6}'\n",
    "#    regexmails = '^([^.@]+)(\\.[^.@]+)*@([^.@]+\\.)+([^.@]+)$'\n",
    "    regex_mails = '^[-.\\w]+@(?:[a-z\\d]{2,}\\.)+[a-z]{2,6}$'\n",
    "    if re.match(regex_mails, email):\n",
    "        print('The email {} is a valid email'.format(email))\n",
    "    else:\n",
    "        print('The email {} is invalid'.format(email))"
   ]
  },
  {
   "cell_type": "code",
   "execution_count": 60,
   "metadata": {},
   "outputs": [
    {
     "name": "stdout",
     "output_type": "stream",
     "text": [
      "The email bob+spam@smith.com is invalid\n"
     ]
    }
   ],
   "source": [
    "email = 'bob+spam@smith.com'\n",
    "email4valid(email)"
   ]
  },
  {
   "cell_type": "code",
   "execution_count": 44,
   "metadata": {},
   "outputs": [
    {
     "name": "stdout",
     "output_type": "stream",
     "text": [
      "The email spam@smith.com is a valid email\n"
     ]
    }
   ],
   "source": [
    "email = 'spam@smith.com'\n",
    "email4valid(email)"
   ]
  },
  {
   "cell_type": "code",
   "execution_count": 45,
   "metadata": {},
   "outputs": [
    {
     "name": "stdout",
     "output_type": "stream",
     "text": [
      "The email \"dream.within@a.dream\"@inception.movie is invalid\n"
     ]
    }
   ],
   "source": [
    "email = '\"dream.within@a.dream\"@inception.movie' # Не проходит, хоть и является валидным по стандарту\n",
    "email4valid(email)"
   ]
  },
  {
   "cell_type": "code",
   "execution_count": null,
   "metadata": {},
   "outputs": [],
   "source": [
    "http://www.ex-parrot.com/~pdw/Mail-RFC822-Address.html # Та самая регулярка"
   ]
  },
  {
   "cell_type": "code",
   "execution_count": null,
   "metadata": {},
   "outputs": [],
   "source": [
    "https://habr.com/ru/post/280798/ # Не плохая статья с возможными сложностями и закавыками\n",
    "# плюс-адреса bob+spam@smith.com\n",
    "# #!$%&'*+-/=?^_`{}|~@example.org   \"dream.within@a.dream\"@inception.movie     bob.\"@\".smith@mywebsite.com\n",
    "#  (here)a@b.com   a(here)@b.com   a@(here)b.com   a@b.com(here)\n",
    "\n",
    "# Это всё допустимые адреса со своими нюансами, всё в статье. "
   ]
  },
  {
   "cell_type": "code",
   "execution_count": null,
   "metadata": {},
   "outputs": [],
   "source": [
    "https://codengineering.ru/q/how-to-validate-an-email-address-using-a-regular-expression-27212/\n",
    "# предлагает регулярки и говорит, что введён новый стандарт"
   ]
  },
  {
   "cell_type": "code",
   "execution_count": null,
   "metadata": {},
   "outputs": [],
   "source": [
    "Ниже пример из рабочего ноутбука для проверки списком:"
   ]
  },
  {
   "cell_type": "code",
   "execution_count": 34,
   "metadata": {},
   "outputs": [],
   "source": [
    "emails = ['n.john.smith@gmail.com', '87victory@hotmail.ru', '!#mary-=@msca.net']"
   ]
  },
  {
   "cell_type": "code",
   "execution_count": 35,
   "metadata": {},
   "outputs": [],
   "source": [
    "regex_mails = '[A-Za-z0-9-_\\.]+@[a-zA-Z0-9_]+\\.[a-zA-Z]{2,6}'\n",
    "regex_mails = '^[-.\\w]+@(?:[a-z\\d]{2,}\\.)+[a-z]{2,6}$'"
   ]
  },
  {
   "cell_type": "code",
   "execution_count": 36,
   "metadata": {},
   "outputs": [
    {
     "name": "stdout",
     "output_type": "stream",
     "text": [
      "The email n.john.smith@gmail.com is a valid email\n",
      "The email 87victory@hotmail.ru is a valid email\n",
      "The email !#mary-=@msca.net is invalid\n"
     ]
    }
   ],
   "source": [
    "for email in emails:\n",
    "    if re.match(regex_mails, email):\n",
    "        print('The email {} is a valid email'.format(email))\n",
    "    else:\n",
    "        print('The email {} is invalid'.format(email))"
   ]
  },
  {
   "cell_type": "code",
   "execution_count": null,
   "metadata": {},
   "outputs": [],
   "source": []
  },
  {
   "cell_type": "markdown",
   "metadata": {},
   "source": [
    "## Задание 3\n",
    "Напишите функцию, которая будет удалять все последовательные повторы слов из заданной строки."
   ]
  },
  {
   "cell_type": "code",
   "execution_count": null,
   "metadata": {},
   "outputs": [],
   "source": []
  },
  {
   "cell_type": "code",
   "execution_count": 55,
   "metadata": {},
   "outputs": [],
   "source": [
    "def  subrepetwords(s):\n",
    "    import re\n",
    "    pattern = r'\\b([^\\W\\d_]+)(\\s+\\1)+\\b'\n",
    "    repl = r'\\1'\n",
    "    string = re.sub(r'\\W+^[:;\\?\\.!\"...]', ' ', s).strip()\n",
    "    result = re.sub(pattern, repl, string, flags=re.I)\n",
    "    print(result)"
   ]
  },
  {
   "cell_type": "code",
   "execution_count": 57,
   "metadata": {},
   "outputs": [
    {
     "name": "stdout",
     "output_type": "stream",
     "text": [
      "Играют волны — ветер свищет, И мачта гнется и скрыпит...\n"
     ]
    }
   ],
   "source": [
    "s = \"Играют волны волны волны — ветер свищет свищет, И и мачта мачта гнется и   и и скрыпит...\"\n",
    "#s = 'Привет принеси лампу лампу лампу пожалуйста мне идиот идиот черный черный вот!'\n",
    "subrepetwords(s)"
   ]
  },
  {
   "cell_type": "code",
   "execution_count": null,
   "metadata": {},
   "outputs": [],
   "source": []
  },
  {
   "cell_type": "markdown",
   "metadata": {},
   "source": [
    "## Задание 4\n",
    "Напишите функцию, которая будет проверять номер сотового телефона на валидность, если он валиден, то переводить его в формат:   \n",
    "+7(xxx)-xxx-xx-xx  \n",
    "Постарайтесь предусмотреть как можно больше адекватных форматов изначального ввода номера.\n",
    "Примеры правильных и неправильных форматов:\n",
    "- +7 955 555-55-55;\n",
    "- 955555555;\n",
    "- 8(955)555-55-55;\n",
    "- +7 955 555 55 55;\n",
    "- 7(955) 555-55-55;\n",
    "- +7 955+555+55+55."
   ]
  },
  {
   "cell_type": "code",
   "execution_count": 58,
   "metadata": {},
   "outputs": [],
   "source": [
    "def telnumberformat(telnum):\n",
    "    import re\n",
    "    pattern = r'^(\\+?)([78])([-\\(]?)(\\d{3})(\\)?)(-?)(\\d{3})(-?)(\\d{2})(-?)(\\d{2})$'\n",
    "    repl = r'+7(\\4)-\\7-\\9-\\11'\n",
    "    if re.search(pattern,telnum):\n",
    "        print('The telephone number {} is a valid telephone number'.format(telnum))\n",
    "        result = re.sub(pattern, repl, telnum)\n",
    "        print('Переводим валидный номер в нужный формат:', result)    \n",
    "    else:\n",
    "        print('The telephone number {} is invalid'.format(telnum))"
   ]
  },
  {
   "cell_type": "code",
   "execution_count": 37,
   "metadata": {},
   "outputs": [
    {
     "name": "stdout",
     "output_type": "stream",
     "text": [
      "The telephone number 8(645)765-95-98 is a valid telephone number\n",
      "Переводим валидный номер в нужный формат: +7(645)-765-95-98\n"
     ]
    }
   ],
   "source": [
    "telnum = '8(645)765-95-98'\n",
    "telnumberformat(telnum)"
   ]
  },
  {
   "cell_type": "code",
   "execution_count": 38,
   "metadata": {},
   "outputs": [
    {
     "name": "stdout",
     "output_type": "stream",
     "text": [
      "The telephone number +9(543)456+50+54 is invalid\n"
     ]
    }
   ],
   "source": [
    "telnum = '+9(543)456+50+54'\n",
    "telnumberformat(telnum)"
   ]
  },
  {
   "cell_type": "code",
   "execution_count": 59,
   "metadata": {},
   "outputs": [
    {
     "name": "stdout",
     "output_type": "stream",
     "text": [
      "The telephone number 86457659598 is a valid telephone number\n",
      "Переводим валидный номер в нужный формат: +7(645)-765-95-98\n"
     ]
    }
   ],
   "source": [
    "telnum = '86457659598'\n",
    "telnumberformat(telnum)"
   ]
  },
  {
   "cell_type": "code",
   "execution_count": null,
   "metadata": {},
   "outputs": [],
   "source": []
  },
  {
   "cell_type": "code",
   "execution_count": null,
   "metadata": {},
   "outputs": [],
   "source": [
    "pattern = '^    (\\+?)  ([78])  ([-\\(]?)  (\\d{3})  (\\)?)  (-?)  (\\d{3})  (-?)  (\\d{2})  (-?)  (\\d{2})  $'\n",
    "pattern = '^\\+?[78][-\\(]?\\d{3}\\)?-?\\d{3}-?\\d{2}-?\\d{2}$'"
   ]
  },
  {
   "cell_type": "code",
   "execution_count": null,
   "metadata": {},
   "outputs": [],
   "source": []
  }
 ],
 "metadata": {
  "kernelspec": {
   "display_name": "Python 3",
   "language": "python",
   "name": "python3"
  },
  "language_info": {
   "codemirror_mode": {
    "name": "ipython",
    "version": 3
   },
   "file_extension": ".py",
   "mimetype": "text/x-python",
   "name": "python",
   "nbconvert_exporter": "python",
   "pygments_lexer": "ipython3",
   "version": "3.7.4"
  }
 },
 "nbformat": 4,
 "nbformat_minor": 2
}
